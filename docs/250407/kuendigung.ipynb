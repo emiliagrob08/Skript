{
  "cells": [
    {
      "cell_type": "markdown",
      "metadata": {
        "id": "Bl8odF7YPFgq"
      },
      "source": [
        "<a target=\"_blank\" href=\"https://colab.research.google.com/github/SkriptenMk/I_gW_23-27/blob/main/docs/250407/kuendigung.ipynb\">\n",
        "  <img src=\"https://colab.research.google.com/assets/colab-badge.svg\" alt=\"Open In Colab\"/>\n",
        "</a>"
      ]
    },
    {
      "cell_type": "markdown",
      "metadata": {
        "id": "g7A4uQ6FPFgs"
      },
      "source": [
        "# Berechnungen zur Kündigungsfrist im Mietrecht"
      ]
    },
    {
      "cell_type": "markdown",
      "metadata": {
        "id": "wl6CNTPFPFgs"
      },
      "source": [
        "Zur Berechnung der Kündigungsfristen im Mietrecht, muss ein Kalender zur\n",
        "Verfügung stehen, welcher die Feiertage und die Wochenenden kennt. Die\n",
        "`datetime` Library ist eine Python Standard Library. Mit ihr werden die\n",
        "Kalenderdaten inklusive der Wochentage zur Verfügung gestellt. In dieser Library\n",
        "nicht integriert sind die Feiertage. Diese müssen mit einer externen Library\n",
        "geladen werden. Die Library `holidays` stellt (unter anderem) die Feiertage in\n",
        "der Schweiz zur Verfügung. Sie berücksichtigt auch die kantonalen Feiertage.  \n",
        "Installiert wird die Library nach dem Starten einer Python Virtual Environment\n",
        "mit dem Befehl (auf Google Colab ist die Library bereits installiert und dieser\n",
        "Schritt daher nicht nötig):\n",
        "\n",
        "```bash\n",
        "pip install holidays\n",
        "```\n",
        "\n",
        "Eine Anleitung für die Verwendung der Library `holidays` wird durch die\n",
        "[Dokumentation](https://holidays.readthedocs.io/en/latest/#)\n",
        "zur Verfügung gestellt."
      ]
    },
    {
      "cell_type": "code",
      "execution_count": 1,
      "metadata": {
        "id": "780g_gyWPFgs"
      },
      "outputs": [],
      "source": [
        "import datetime           # Python standard library\n",
        "import holidays           # Third-party library"
      ]
    },
    {
      "cell_type": "markdown",
      "metadata": {
        "id": "GnXEPopTPFgt"
      },
      "source": [
        "## Kündigungsfristen im Mietrecht"
      ]
    },
    {
      "cell_type": "markdown",
      "metadata": {
        "id": "Sh3WckgGPFgt"
      },
      "source": [
        "Art. 266c OR regelt die Kündigungsfrist von gemieteten Wohnungen. Die Frist\n",
        "beträgt drei Monate auf die ortsübliche Kündigungstermine.  \n",
        "Kündigungen sind Empfangsbedürftige Erklärungen. Das bedeutet, dass für die\n",
        "Berechnung der Fristen auf den Zeitpunkt des Empfangs der Kündigung abzustellen\n",
        "ist.\n",
        "\n",
        "Für die Berechnung, wann eine Kündigung spätestens der Schweizerischen Post\n",
        "übergeben werden muss, damit die Kündungsfrist eingehalten wird, müssen die\n",
        "ortsüblichen Kündigungstermine bekannt sein. Im Kanton Zürich ist dabei zu\n",
        "unterscheiden zwischen der Stadt Zürich und dem Rest des Kantons. In der Stadt\n",
        "Zürich sind 31. März und der 30. September, im Rest des Kantons der 31. März,\n",
        "der 30. Juni und der 30. September ordetnliche Kündigungstermine.\n",
        "Ausserdem muss die Zustellungsdauer\n",
        "der Post bekannt sein. Für eingeschriebene Briefe beträgt diese in der Regel 1\n",
        "Tag."
      ]
    },
    {
      "cell_type": "markdown",
      "metadata": {
        "id": "IAZb6Up1PFgt"
      },
      "source": [
        "## Python Funktionen für die Datumsberechnung"
      ]
    },
    {
      "cell_type": "markdown",
      "metadata": {
        "id": "CiB6TGdAPFgt"
      },
      "source": [
        "### `datetime` Library"
      ]
    },
    {
      "cell_type": "markdown",
      "metadata": {
        "id": "eY6XI1nqPFgu"
      },
      "source": [
        "Die Python datetime Library stellt die Klasse `datetime` zur Verfügung. Mit\n",
        "dieser Klasse kann einer Varibeln ein Datum zugewiesen werden. Ausserdem wird\n",
        "jedem Datum ein Wochentag zugewiesen. Die Wochentage sind von 0 (Montag) bis 6\n",
        "(Sonntag) nummeriert. Die Klasse `datetime` stellt auch die Methode `timedelta` zur\n",
        "Verfügung. Mit dieser Methode kann zu einem Datum eine Zeitspanne hinzugefügt\n",
        "werden. Diese Zeitspanne kann in Tagen angegeben werden.\n",
        "\n",
        "Die Syntax um einer Variablen ein Datum zuzuweisen lautet folgendermassen:\n",
        "\n",
        "```python\n",
        "geburtstag_mk = datetime(1969, 1, 23)\n",
        "```\n",
        "\n",
        "Der Wochentag eines Datums kann mit der Methode `weekday()` abgerufen werden. Im\n",
        "Beispiel sieht das so aus:\n",
        "\n",
        "```python\n",
        "wochentag = geburtstag_mk.weekday()\n",
        "print(wochentag)\n",
        "```\n",
        "\n",
        "Die Syntax, um einem gegebenen Datum `datum` eine Zeitspanne hinzuzufügen, lautet:\n",
        "\n",
        "```python\n",
        "datum = datum + datetime.timedelta(days=1)\n",
        "```"
      ]
    },
    {
      "cell_type": "markdown",
      "metadata": {
        "id": "nIVGKypSPFgu"
      },
      "source": [
        "### Beispiel für die Verwendung der Klasse `datetime`"
      ]
    },
    {
      "cell_type": "markdown",
      "metadata": {
        "id": "npbuwzFcPFgu"
      },
      "source": [
        "Weisen Sie der Variablen `my_birthday` das Datum Ihres Geburtstags zu.\n",
        "Kontrollieren Sie anschliessend mit der Methode `weekday()` den Wochentag Ihres Geburtstags."
      ]
    },
    {
      "cell_type": "code",
      "execution_count": null,
      "metadata": {
        "id": "LtDS5o_GPFgu"
      },
      "outputs": [],
      "source": [
        "# TODO: Schreiben Sie hier Ihren Code"
      ]
    },
    {
      "cell_type": "markdown",
      "metadata": {
        "id": "RqmMMmyXPFgu"
      },
      "source": [
        "### `holidays` Library"
      ]
    },
    {
      "cell_type": "markdown",
      "metadata": {
        "id": "ZnI3b0W-PFgu"
      },
      "source": [
        "Die Library `holidays` stellt unter anderem die Feiertage in der Schweiz zur\n",
        "Verfügung. Dabei besteht die Möglichkeit, die Feiertage nach Kanton zu filtern.\n",
        "Unter der entsprechnden Variablen werden die Feiertage in einer Datenstruktur\n",
        "abgelegt, welche einem Python Dictinary ähnelt.\n",
        "\n",
        "Eine Datenstruktur mit den Feiertagen für den Kanton Zürich wird mit folgender\n",
        "Syntax angelegt:\n",
        "\n",
        "```python\n",
        "feiertage_zh = holidays.Switzerland(subdiv='ZH')\n",
        "```\n",
        "\n",
        "Um zu prüfen, ob ein Datum ein Feiertag ist, getestet werden, ob das Datum in\n",
        "der Datenstruktur `feiertage_zh` enthalten ist. Dies geschieht mit der\n",
        "Methode `in`:\n",
        "\n",
        "```python\n",
        "'2025-01-01' in feiertage_zh\n",
        "```\n",
        "Die Methode gibt `True` zurück, wenn das Datum ein Feiertag ist."
      ]
    },
    {
      "cell_type": "markdown",
      "metadata": {
        "id": "bs9sSfPMPFgv"
      },
      "source": [
        "### Beispiel für die Verwendung der Library `holidays`"
      ]
    },
    {
      "cell_type": "markdown",
      "metadata": {
        "id": "mHkZ_559PFgv"
      },
      "source": [
        "Erstellen Sie eine Datenstruktur mit den Feiertagen für den Kanton Zürich.\n",
        "Prüfen Sie anschliessend, ob der 1. Mai 2025 ein Feiertag ist."
      ]
    },
    {
      "cell_type": "code",
      "execution_count": null,
      "metadata": {
        "id": "WiKqxte_PFgv"
      },
      "outputs": [],
      "source": [
        "# TODO: Schreiben Sie hier Ihren Code"
      ]
    },
    {
      "cell_type": "markdown",
      "metadata": {
        "id": "4A9x4-Y1PFgv"
      },
      "source": [
        "## Funktion zur Berechnung des Zustellungsdatums"
      ]
    },
    {
      "cell_type": "markdown",
      "metadata": {
        "id": "-4dT2SmmPFgv"
      },
      "source": [
        "Für die Berechnung des Datums der Zustellung werden die Sonn- und Feiertage\n",
        "berücksichtigt. Zur Kontrolle der gesetzlichen Feiertage kann auf die Liste der\n",
        "[gesetzlichen\n",
        "Feiertage](https://www.bj.admin.ch/dam/bj/de/data/publiservice/service/zivilprozessrecht/kant-feiertage.pdf.download.pdf/kant-feiertage.pdf)\n",
        "des Bundesamtes für Justiz zurückgegriffen werden."
      ]
    },
    {
      "cell_type": "code",
      "execution_count": null,
      "metadata": {
        "id": "qEzVSh5_PFgv"
      },
      "outputs": [],
      "source": [
        "def get_zustelldatum(abgabedatum: datetime.date) -> datetime.date:\n",
        "    #TODO: Implementieren Sie die Funktion\n",
        "    pass"
      ]
    },
    {
      "cell_type": "markdown",
      "metadata": {
        "id": "YJiB6f7KPFgv"
      },
      "source": [
        "## Funktion zur Berechnung der Kündigungsfrist"
      ]
    },
    {
      "cell_type": "code",
      "execution_count": null,
      "metadata": {
        "id": "J2t-JRJFPFgv"
      },
      "outputs": [],
      "source": [
        "def _set_kuendigungstermine(referenzdatum: datetime.date) -> list:\n",
        "    #Funktion zum Setzen der Daten der Kündigungstermine mit Konkreter Jahreszahl\n",
        "    #TODO: Implementieren Sie die Funktion\n",
        "    pass"
      ]
    },
    {
      "cell_type": "code",
      "execution_count": null,
      "metadata": {
        "id": "9oKQx079PFgv"
      },
      "outputs": [],
      "source": [
        "def get_kuendigungstermin(aufgabedatum: datetime.date) -> datetime.date:\n",
        "    #TODO: Implementieren Sie die Funktion\n",
        "    pass"
      ]
    },
    {
      "cell_type": "markdown",
      "metadata": {
        "id": "mw4il_C9PFgv"
      },
      "source": [
        "## Funktion zur Berechnung des Aufgabedatums"
      ]
    },
    {
      "cell_type": "code",
      "execution_count": null,
      "metadata": {
        "id": "lO_2pT0sPFgv"
      },
      "outputs": [],
      "source": [
        "def get_aufgabedatum(kuendigungstermin: datetime.date) -> datetime.date:\n",
        "    #TODO: Implementieren Sie die Funktion\n",
        "    pass"
      ]
    }
  ],
  "metadata": {
    "kernelspec": {
      "display_name": ".venv",
      "language": "python",
      "name": "python3"
    },
    "language_info": {
      "codemirror_mode": {
        "name": "ipython",
        "version": 3
      },
      "file_extension": ".py",
      "mimetype": "text/x-python",
      "name": "python",
      "nbconvert_exporter": "python",
      "pygments_lexer": "ipython3",
      "version": "3.13.1"
    },
    "colab": {
      "provenance": []
    }
  },
  "nbformat": 4,
  "nbformat_minor": 0
}